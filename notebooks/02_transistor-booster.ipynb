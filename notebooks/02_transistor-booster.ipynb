{
 "cells": [
  {
   "cell_type": "code",
   "execution_count": null,
   "metadata": {},
   "outputs": [],
   "source": [
    "import os\n",
    "\n",
    "# move up one directory\n",
    "os.chdir(\"..\")\n",
    "\n",
    "print(os.getcwd())"
   ]
  },
  {
   "cell_type": "code",
   "execution_count": null,
   "metadata": {},
   "outputs": [],
   "source": [
    "import numpy as np\n",
    "\n",
    "from nkss.examples.transistorbooster import TransistorBooster\n",
    "from nkss.utils import generate_ascending_sine, generate_sine_sweep\n",
    "import matplotlib.pyplot as plt"
   ]
  },
  {
   "cell_type": "code",
   "execution_count": null,
   "metadata": {},
   "outputs": [],
   "source": [
    "sr = int(44100 * 4)\n",
    "n_sec = 0.1\n",
    "\n",
    "freq = 100\n",
    "\n",
    "max_amp = 1\n",
    "\n",
    "transistor = TransistorBooster(sample_rate=sr)\n"
   ]
  },
  {
   "cell_type": "code",
   "execution_count": null,
   "metadata": {},
   "outputs": [],
   "source": [
    "transistor.K.shape"
   ]
  },
  {
   "cell_type": "code",
   "execution_count": null,
   "metadata": {},
   "outputs": [],
   "source": [
    "transistor.converter_matrix.shape"
   ]
  },
  {
   "cell_type": "code",
   "execution_count": null,
   "metadata": {},
   "outputs": [],
   "source": [
    "transistor.calc_init_values(\n",
    "    un=np.array([\n",
    "        [0],\n",
    "        [9]]),\n",
    "    xnm1=np.array([\n",
    "        [0.6e-9]]),\n",
    "    vn=np.array([\n",
    "        [-0.7],\n",
    "        [-1.4]]))\n",
    "\n",
    "num_samples = int(sr * n_sec)\n",
    "asc_sine = generate_ascending_sine(stop_amp=max_amp, sample_rate=sr)\n",
    "\n",
    "out = transistor.process_block(input_samples=asc_sine)\n",
    "\n",
    "plt.subplot(2, 1, 1)\n",
    "plt.plot(out)\n",
    "plt.title('out')\n",
    "\n",
    "plt.subplot(2, 1, 2)\n",
    "plt.plot(asc_sine)\n",
    "plt.title('sin')\n",
    "\n",
    "plt.tight_layout()\n",
    "plt.show()\n"
   ]
  },
  {
   "cell_type": "code",
   "execution_count": null,
   "metadata": {},
   "outputs": [],
   "source": []
  }
 ],
 "metadata": {
  "kernelspec": {
   "display_name": ".venv",
   "language": "python",
   "name": "python3"
  },
  "language_info": {
   "codemirror_mode": {
    "name": "ipython",
    "version": 3
   },
   "file_extension": ".py",
   "mimetype": "text/x-python",
   "name": "python",
   "nbconvert_exporter": "python",
   "pygments_lexer": "ipython3",
   "version": "3.10.12"
  },
  "orig_nbformat": 4
 },
 "nbformat": 4,
 "nbformat_minor": 2
}
